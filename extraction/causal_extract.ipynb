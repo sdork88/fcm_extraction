{
 "cells": [
  {
   "cell_type": "code",
   "execution_count": 1,
   "metadata": {},
   "outputs": [],
   "source": [
    "from langchain.chat_models import ChatOpenAI\n",
    "from langchain.chains import LLMChain, RetrievalQA\n",
    "from langchain.prompts import PromptTemplate\n",
    "from langchain.vectorstores import Chroma\n",
    "from langchain.embeddings import OpenAIEmbeddings\n",
    "from langchain.schema import Document as langDocument\n",
    "from langchain.text_splitter import NLTKTextSplitter\n",
    "from docx import Document as DocxDocument\n",
    "\n",
    "import json\n",
    "import re\n",
    "from typing import Literal\n",
    "from langchain.chat_models import ChatOpenAI\n",
    "from langchain.chains import LLMChain, RetrievalQA\n",
    "from langchain.prompts import PromptTemplate\n",
    "\n",
    "import re\n",
    "import numpy as np\n",
    "import pandas as pd\n",
    "\n",
    "\n",
    "from score_fcm import ScoreCalculator\n",
    "import gc\n",
    "\n",
    "\n",
    "import demjson3"
   ]
  },
  {
   "cell_type": "code",
   "execution_count": 2,
   "metadata": {},
   "outputs": [],
   "source": [
    "import os\n",
    "import pypandoc\n",
    "from docx import Document\n",
    "\n",
    "def read_all_text_files(folder_path):\n",
    "    contents = []\n",
    "\n",
    "    for filename in os.listdir(folder_path):\n",
    "        file_path = os.path.join(folder_path, filename)\n",
    "\n",
    "        if filename.endswith('.txt'):\n",
    "            with open(file_path, 'r', encoding='utf-8') as f:\n",
    "                contents.append(f.read())\n",
    "\n",
    "        elif filename.endswith('.docx'):\n",
    "            doc = DocxDocument(file_path)\n",
    "            text = \"\\n\".join([para.text for para in doc.paragraphs])\n",
    "            contents.append(text)\n",
    "\n",
    "        elif filename.endswith('.doc'):\n",
    "            try:\n",
    "                # Convert .doc to plain text using pandoc\n",
    "                text = pypandoc.convert_file(file_path, 'plain')\n",
    "                contents.append(text)\n",
    "            except Exception as e:\n",
    "                print(f\"❌ Could not read {filename}: {e}\")\n",
    "\n",
    "    return \"\\n\\n\\n\\n\\n\\n\\n\\n\\n\".join(contents)"
   ]
  },
  {
   "cell_type": "code",
   "execution_count": 3,
   "metadata": {},
   "outputs": [],
   "source": [
    "basic = \"\"\"You are helping build a fuzzy cognitive map (FCM) from an interview document.\n",
    "\n",
    "### TASK ###\n",
    "Extract all **causal relationships** between unique concepts from the interview segment below. Use context-level context to provide direct **evidence** for each causal relationship.\n",
    "\n",
    "### INSTRUCTIONS ###\n",
    "1. Identify concepts that can increase or decrease.\n",
    "   - Avoid directional language in concept names (e.g., \"increase\", \"decline\").\n",
    "   - Be specific to the terms used, do not generalize\n",
    "\n",
    "2. Make sure evidence is correctly quoted to avoid invalid json. if there are quotes in the evidence handle them appropriately.\n",
    "\n",
    "Output causal relationships in this format:\n",
    "```json\n",
    "[\n",
    "  {{\n",
    "    \"src\": \"<SOURCE CONCEPT>\",\n",
    "    \"dir\": \"INCREASES\" | \"DECREASES\",\n",
    "    \"tgt\": \"<TARGET CONCEPT>\"\n",
    "  }},\n",
    "  ...\n",
    "]\n",
    "\n",
    "**Interview Segment**\n",
    "{question}\n",
    "\"\"\"\n",
    "\n",
    "agent1_template = \"\"\"You are helping build a fuzzy cognitive map (FCM) from an interview document.\n",
    "\n",
    "### TASK ###\n",
    "Extract all **causal relationships** between unique concepts from the interview segment below. Use context to provide direct **evidence** for each causal relationship.\n",
    "\n",
    "### INSTRUCTIONS ###\n",
    "1. Identify concepts that can increase or decrease.\n",
    "   - Avoid directional language in concept names (e.g., \"increase\", \"decline\").\n",
    "   - Be specific to the terms used, do not generalize\n",
    "\n",
    "2. Make sure evidence is correctly quoted to avoid invalid json. if there are quotes in the evidence handle them appropriately.\n",
    "\n",
    "Output causal relationships in this format:\n",
    "```json\n",
    "[\n",
    "  {{\n",
    "    \"src\": \"<SOURCE CONCEPT>\",\n",
    "    \"dir\": \"INCREASES\" | \"DECREASES\",\n",
    "    \"tgt\": \"<TARGET CONCEPT>\",\n",
    "    \"evidence\": \"<Exact sentence(s) or snippet(s) from the interview with plenty of context. Use retrieval to make them exact>\"\n",
    "  }},\n",
    "  ...\n",
    "]\n",
    "Use the context to disambiguate vague ideas and make implicit causality explicit.\n",
    "\n",
    "**Retrieved Context**\n",
    "{context}\n",
    "\n",
    "**Interview Segment**\n",
    "{question}\n",
    "\"\"\"\n",
    "\n",
    "\n",
    "agent2_template = \"\"\"You are refining extracted causal relationships based on the evidence.\n",
    "\n",
    "### TASK ###\n",
    "Review the extracted relationships and improve based on the evidence provided in the Initial Extracted Relationships:\n",
    "\n",
    "Concept clarity based on the evidence\n",
    "Direction correctness based on the evidence\n",
    "Correct directional errors if any based on the evidence\n",
    "Add new causal relationships if obviously missing based on the evidence\n",
    "Remove duplicates or unclear relationships based on the evidence\n",
    "\n",
    "\n",
    "**Do not include evidence this time**\n",
    "Output Format\n",
    "[\n",
    "  {{\n",
    "    \"src\": \"<IMPROVED SOURCE CONCEPT>\",\n",
    "    \"dir\": \"INCREASES\" | \"DECREASES\",\n",
    "    \"tgt\": \"<IMPROVED TARGET CONCEPT>\"\n",
    "  }},\n",
    "  ...\n",
    "]\n",
    "Initial Extracted Relationships\n",
    "{question}\n",
    "\n",
    "**Use this below to evaluate full text context for the concepts and relationship in the initial extraction**\n",
    "Full Text\n",
    "{full_context}\n",
    "\"\"\"\n",
    "\n"
   ]
  },
  {
   "cell_type": "code",
   "execution_count": 4,
   "metadata": {},
   "outputs": [],
   "source": [
    "def auto_fix_json(raw_str):\n",
    "    # Fix common errors\n",
    "    fixed = raw_str.replace('}\\n{', '},\\n{')  # Add commas between dicts\n",
    "    fixed = fixed.replace('}\\n]', '},\\n]')    # Comma before end of list\n",
    "    fixed = re.sub(r\"(?<!\\]),\\s*]\", \"]\", fixed)  # Remove trailing comma before closing list\n",
    "    return fixed\n",
    "\n",
    "def parse_with_demjson(raw_str):\n",
    "    cleaned = re.sub(r\"^```json|```$\", \"\", raw_str.strip(), flags=re.MULTILINE).strip()\n",
    "    fixed = auto_fix_json(cleaned)\n",
    "    return demjson3.decode(fixed)\n",
    "\n",
    "def run_pipeline(\n",
    "    interview_segment,\n",
    "    full_transcript,\n",
    "    store,\n",
    "    key,\n",
    "    mode: Literal[\"basic\", \"single\", \"dual\", \"alt_dual\", \"custom\"] = \"dual\",\n",
    "    model_name=\"gpt-4.1-nano\"\n",
    "):\n",
    "    llm = ChatOpenAI(model=model_name, temperature=0.2, openai_api_key=key)\n",
    "\n",
    "    # === BASIC MODE ===\n",
    "    if mode == \"basic\":\n",
    "        basic_prompt = PromptTemplate(\n",
    "            input_variables=[\"segment\"],\n",
    "            template=basic\n",
    "        )\n",
    "        chain = LLMChain(llm=llm, prompt=basic_prompt)\n",
    "        basic_output = chain.run({\"question\": interview_segment})\n",
    "        result_json = parse_with_demjson(basic_output)\n",
    "\n",
    "        return {\n",
    "            \"raw_extractions\": result_json,\n",
    "            \"refined_extractions\": None\n",
    "        }\n",
    "\n",
    "    # === SINGLE & DUAL MODES ===\n",
    "    retriever = store.as_retriever(search_kwargs={\"k\": 10})\n",
    "    agent1_prompt = PromptTemplate(\n",
    "        input_variables=[\"context\", \"question\"],\n",
    "        template=agent1_template\n",
    "    )\n",
    "    agent1_chain = RetrievalQA.from_chain_type(\n",
    "        llm=llm,\n",
    "        retriever=retriever,\n",
    "        chain_type=\"stuff\",\n",
    "        chain_type_kwargs={\"prompt\": agent1_prompt},\n",
    "        return_source_documents=True\n",
    "    )\n",
    "    agent1_output = agent1_chain.invoke({\"query\": interview_segment})\n",
    "    raw_result = agent1_output[\"result\"]\n",
    "    \n",
    "    agent1_result_json = parse_with_demjson(raw_result)\n",
    "\n",
    "    if mode == \"single\":\n",
    "        return {\n",
    "            \"raw_extractions\": agent1_result_json,\n",
    "            \"refined_extractions\": None\n",
    "        }\n",
    "\n",
    "    elif mode == \"dual\":\n",
    "        agent2_prompt = PromptTemplate(\n",
    "            input_variables=[\"question\", \"full_context\"],\n",
    "            template=agent2_template\n",
    "        )\n",
    "        agent2_chain = LLMChain(llm=llm, prompt=agent2_prompt)\n",
    "\n",
    "        refined_results = []\n",
    "        for relation in agent1_result_json:\n",
    "            single_relation_json = demjson3.encode([relation])\n",
    "            agent2_result_raw = agent2_chain.run({\n",
    "                \"question\": single_relation_json,\n",
    "                \"full_context\": full_transcript\n",
    "            })\n",
    "            refined = parse_with_demjson(agent2_result_raw)\n",
    "            refined_results.extend(refined)\n",
    "\n",
    "        return {\n",
    "            \"raw_extractions\": agent1_result_json,\n",
    "            \"refined_extractions\": refined_results\n",
    "        }\n",
    "\n",
    "    elif mode == \"custom\":\n",
    "        raise NotImplementedError(\"Custom mode not yet implemented.\")\n",
    "\n",
    "    else:\n",
    "        raise ValueError(f\"Unsupported mode: {mode}\")\n",
    "\n",
    "import pandas as pd\n",
    "\n",
    "def dir_to_val(dirs):\n",
    "    unique_dirs = set(dirs)\n",
    "    if len(unique_dirs) == 1:\n",
    "        return 1 if 'INCREASES' in unique_dirs else -1\n",
    "    else:\n",
    "        return None\n"
   ]
  },
  {
   "cell_type": "code",
   "execution_count": 5,
   "metadata": {},
   "outputs": [
    {
     "name": "stderr",
     "output_type": "stream",
     "text": [
      "/var/folders/3z/trrz86kd2jjf4smrjx86v6k80000gp/T/ipykernel_27876/909302410.py:18: LangChainDeprecationWarning: The class `OpenAIEmbeddings` was deprecated in LangChain 0.0.9 and will be removed in 1.0. An updated version of the class exists in the :class:`~langchain-openai package and should be used instead. To use it run `pip install -U :class:`~langchain-openai` and import as `from :class:`~langchain_openai import OpenAIEmbeddings``.\n",
      "  embeddings = OpenAIEmbeddings(openai_api_key=key)\n"
     ]
    },
    {
     "name": "stdout",
     "output_type": "stream",
     "text": [
      "Processing folder: USVI Academics\n"
     ]
    },
    {
     "name": "stderr",
     "output_type": "stream",
     "text": [
      "/var/folders/3z/trrz86kd2jjf4smrjx86v6k80000gp/T/ipykernel_27876/909302410.py:62: LangChainDeprecationWarning: Since Chroma 0.4.x the manual persistence method is no longer supported as docs are automatically persisted.\n",
      "  store.persist()\n",
      "/var/folders/3z/trrz86kd2jjf4smrjx86v6k80000gp/T/ipykernel_27876/4257352886.py:21: LangChainDeprecationWarning: The class `ChatOpenAI` was deprecated in LangChain 0.0.10 and will be removed in 1.0. An updated version of the class exists in the :class:`~langchain-openai package and should be used instead. To use it run `pip install -U :class:`~langchain-openai` and import as `from :class:`~langchain_openai import ChatOpenAI``.\n",
      "  llm = ChatOpenAI(model=model_name, temperature=0.2, openai_api_key=key)\n",
      "/var/folders/3z/trrz86kd2jjf4smrjx86v6k80000gp/T/ipykernel_27876/4257352886.py:66: LangChainDeprecationWarning: The class `LLMChain` was deprecated in LangChain 0.1.17 and will be removed in 1.0. Use :meth:`~RunnableSequence, e.g., `prompt | llm`` instead.\n",
      "  agent2_chain = LLMChain(llm=llm, prompt=agent2_prompt)\n",
      "/var/folders/3z/trrz86kd2jjf4smrjx86v6k80000gp/T/ipykernel_27876/4257352886.py:71: LangChainDeprecationWarning: The method `Chain.run` was deprecated in langchain 0.1.0 and will be removed in 1.0. Use :meth:`~invoke` instead.\n",
      "  agent2_result_raw = agent2_chain.run({\n"
     ]
    },
    {
     "data": {
      "application/vnd.jupyter.widget-view+json": {
       "model_id": "2cf2be2030084fdcaf9aefe78e0ae2cc",
       "version_major": 2,
       "version_minor": 0
      },
      "text/plain": [
       "Loading checkpoint shards:   0%|          | 0/2 [00:00<?, ?it/s]"
      ]
     },
     "metadata": {},
     "output_type": "display_data"
    },
    {
     "name": "stderr",
     "output_type": "stream",
     "text": [
      "/Users/spencer.dork/Documents/FCM/score_fcm.py:185: FutureWarning: The behavior of DataFrame concatenation with empty or all-NA entries is deprecated. In a future version, this will no longer exclude empty or all-NA columns when determining the result dtypes. To retain the old behavior, exclude the relevant entries before the concat operation.\n",
      "  self.scores_df = pd.concat([self.scores_df,model_score])\n"
     ]
    },
    {
     "name": "stdout",
     "output_type": "stream",
     "text": [
      "Processing folder: USVI DAP\n"
     ]
    },
    {
     "data": {
      "application/vnd.jupyter.widget-view+json": {
       "model_id": "b5b3bd4729094cf1b86f89397f0c60fb",
       "version_major": 2,
       "version_minor": 0
      },
      "text/plain": [
       "Loading checkpoint shards:   0%|          | 0/2 [00:00<?, ?it/s]"
      ]
     },
     "metadata": {},
     "output_type": "display_data"
    },
    {
     "name": "stderr",
     "output_type": "stream",
     "text": [
      "/Users/spencer.dork/Documents/FCM/score_fcm.py:185: FutureWarning: The behavior of DataFrame concatenation with empty or all-NA entries is deprecated. In a future version, this will no longer exclude empty or all-NA columns when determining the result dtypes. To retain the old behavior, exclude the relevant entries before the concat operation.\n",
      "  self.scores_df = pd.concat([self.scores_df,model_score])\n"
     ]
    },
    {
     "name": "stdout",
     "output_type": "stream",
     "text": [
      "Processing folder: PR Academics\n"
     ]
    },
    {
     "data": {
      "application/vnd.jupyter.widget-view+json": {
       "model_id": "e4f43bb53b69421e8be20c955d63a29a",
       "version_major": 2,
       "version_minor": 0
      },
      "text/plain": [
       "Loading checkpoint shards:   0%|          | 0/2 [00:00<?, ?it/s]"
      ]
     },
     "metadata": {},
     "output_type": "display_data"
    },
    {
     "name": "stderr",
     "output_type": "stream",
     "text": [
      "/Users/spencer.dork/Documents/FCM/score_fcm.py:185: FutureWarning: The behavior of DataFrame concatenation with empty or all-NA entries is deprecated. In a future version, this will no longer exclude empty or all-NA columns when determining the result dtypes. To retain the old behavior, exclude the relevant entries before the concat operation.\n",
      "  self.scores_df = pd.concat([self.scores_df,model_score])\n"
     ]
    },
    {
     "name": "stdout",
     "output_type": "stream",
     "text": [
      "Processing folder: USVI Managers\n"
     ]
    },
    {
     "data": {
      "application/vnd.jupyter.widget-view+json": {
       "model_id": "829a249dbeff4428a5d9c0ea0954f5fb",
       "version_major": 2,
       "version_minor": 0
      },
      "text/plain": [
       "Loading checkpoint shards:   0%|          | 0/2 [00:00<?, ?it/s]"
      ]
     },
     "metadata": {},
     "output_type": "display_data"
    },
    {
     "name": "stderr",
     "output_type": "stream",
     "text": [
      "/Users/spencer.dork/Documents/FCM/score_fcm.py:185: FutureWarning: The behavior of DataFrame concatenation with empty or all-NA entries is deprecated. In a future version, this will no longer exclude empty or all-NA columns when determining the result dtypes. To retain the old behavior, exclude the relevant entries before the concat operation.\n",
      "  self.scores_df = pd.concat([self.scores_df,model_score])\n"
     ]
    },
    {
     "name": "stdout",
     "output_type": "stream",
     "text": [
      "Processing folder: PR NGOs\n"
     ]
    },
    {
     "data": {
      "application/vnd.jupyter.widget-view+json": {
       "model_id": "40c7c31c6e3746af8bf60c6e9e32d0d9",
       "version_major": 2,
       "version_minor": 0
      },
      "text/plain": [
       "Loading checkpoint shards:   0%|          | 0/2 [00:00<?, ?it/s]"
      ]
     },
     "metadata": {},
     "output_type": "display_data"
    },
    {
     "name": "stderr",
     "output_type": "stream",
     "text": [
      "/Users/spencer.dork/Documents/FCM/score_fcm.py:185: FutureWarning: The behavior of DataFrame concatenation with empty or all-NA entries is deprecated. In a future version, this will no longer exclude empty or all-NA columns when determining the result dtypes. To retain the old behavior, exclude the relevant entries before the concat operation.\n",
      "  self.scores_df = pd.concat([self.scores_df,model_score])\n"
     ]
    },
    {
     "name": "stdout",
     "output_type": "stream",
     "text": [
      "Processing folder: USVI Fishers\n"
     ]
    },
    {
     "data": {
      "application/vnd.jupyter.widget-view+json": {
       "model_id": "b9508336a739489c826fe7447324cd70",
       "version_major": 2,
       "version_minor": 0
      },
      "text/plain": [
       "Loading checkpoint shards:   0%|          | 0/2 [00:00<?, ?it/s]"
      ]
     },
     "metadata": {},
     "output_type": "display_data"
    },
    {
     "name": "stderr",
     "output_type": "stream",
     "text": [
      "/Users/spencer.dork/Documents/FCM/score_fcm.py:185: FutureWarning: The behavior of DataFrame concatenation with empty or all-NA entries is deprecated. In a future version, this will no longer exclude empty or all-NA columns when determining the result dtypes. To retain the old behavior, exclude the relevant entries before the concat operation.\n",
      "  self.scores_df = pd.concat([self.scores_df,model_score])\n"
     ]
    },
    {
     "name": "stdout",
     "output_type": "stream",
     "text": [
      "Processing folder: USVI Businesses\n"
     ]
    },
    {
     "data": {
      "application/vnd.jupyter.widget-view+json": {
       "model_id": "9514753006f8423c93fa76cb13444664",
       "version_major": 2,
       "version_minor": 0
      },
      "text/plain": [
       "Loading checkpoint shards:   0%|          | 0/2 [00:00<?, ?it/s]"
      ]
     },
     "metadata": {},
     "output_type": "display_data"
    },
    {
     "name": "stderr",
     "output_type": "stream",
     "text": [
      "/Users/spencer.dork/Documents/FCM/score_fcm.py:185: FutureWarning: The behavior of DataFrame concatenation with empty or all-NA entries is deprecated. In a future version, this will no longer exclude empty or all-NA columns when determining the result dtypes. To retain the old behavior, exclude the relevant entries before the concat operation.\n",
      "  self.scores_df = pd.concat([self.scores_df,model_score])\n"
     ]
    },
    {
     "name": "stdout",
     "output_type": "stream",
     "text": [
      "Processing folder: PR Businesses\n"
     ]
    },
    {
     "data": {
      "application/vnd.jupyter.widget-view+json": {
       "model_id": "39caf421bdf2435ba6f8b096c8f4986f",
       "version_major": 2,
       "version_minor": 0
      },
      "text/plain": [
       "Loading checkpoint shards:   0%|          | 0/2 [00:00<?, ?it/s]"
      ]
     },
     "metadata": {},
     "output_type": "display_data"
    },
    {
     "name": "stderr",
     "output_type": "stream",
     "text": [
      "/Users/spencer.dork/Documents/FCM/score_fcm.py:185: FutureWarning: The behavior of DataFrame concatenation with empty or all-NA entries is deprecated. In a future version, this will no longer exclude empty or all-NA columns when determining the result dtypes. To retain the old behavior, exclude the relevant entries before the concat operation.\n",
      "  self.scores_df = pd.concat([self.scores_df,model_score])\n"
     ]
    },
    {
     "name": "stdout",
     "output_type": "stream",
     "text": [
      "Processing folder: USVI NGOs\n"
     ]
    },
    {
     "data": {
      "application/vnd.jupyter.widget-view+json": {
       "model_id": "f5aff31c927e456bbad2a97b28f42c21",
       "version_major": 2,
       "version_minor": 0
      },
      "text/plain": [
       "Loading checkpoint shards:   0%|          | 0/2 [00:00<?, ?it/s]"
      ]
     },
     "metadata": {},
     "output_type": "display_data"
    },
    {
     "name": "stderr",
     "output_type": "stream",
     "text": [
      "/Users/spencer.dork/Documents/FCM/score_fcm.py:185: FutureWarning: The behavior of DataFrame concatenation with empty or all-NA entries is deprecated. In a future version, this will no longer exclude empty or all-NA columns when determining the result dtypes. To retain the old behavior, exclude the relevant entries before the concat operation.\n",
      "  self.scores_df = pd.concat([self.scores_df,model_score])\n"
     ]
    },
    {
     "name": "stdout",
     "output_type": "stream",
     "text": [
      "Processing folder: PR Managers\n"
     ]
    },
    {
     "data": {
      "application/vnd.jupyter.widget-view+json": {
       "model_id": "b5ee8e61d0874f67969cbc622903ea07",
       "version_major": 2,
       "version_minor": 0
      },
      "text/plain": [
       "Loading checkpoint shards:   0%|          | 0/2 [00:00<?, ?it/s]"
      ]
     },
     "metadata": {},
     "output_type": "display_data"
    },
    {
     "name": "stdout",
     "output_type": "stream",
     "text": [
      "Skipping PR Fishers — already processed.\n",
      "Results written to outputs.csv\n"
     ]
    },
    {
     "name": "stderr",
     "output_type": "stream",
     "text": [
      "/Users/spencer.dork/Documents/FCM/score_fcm.py:185: FutureWarning: The behavior of DataFrame concatenation with empty or all-NA entries is deprecated. In a future version, this will no longer exclude empty or all-NA columns when determining the result dtypes. To retain the old behavior, exclude the relevant entries before the concat operation.\n",
      "  self.scores_df = pd.concat([self.scores_df,model_score])\n"
     ]
    }
   ],
   "source": [
    "def round_float_cols(df, precision=10):\n",
    "    float_cols = df.select_dtypes(include='float').columns\n",
    "    df[float_cols] = df[float_cols].round(precision)\n",
    "    return df\n",
    "\n",
    "# Path setup\n",
    "base_folder = '/Users/spencer.dork/Documents/FCM Extraction Paper Data/Caribbean/'\n",
    "key_path = '/Users/spencer.dork/Documents/Hierarchical Clustering/Evaluations/key.txt'\n",
    "bio_dict_path = os.path.join(base_folder, 'Caribbean_FCMs.xlsx')\n",
    "output_file = 'outputs.csv'\n",
    "model_name = 'gpt-4.1-nano'\n",
    "method = 'dual agent (first rag, second full)'  # Change if needed per run\n",
    "\n",
    "# Load API key\n",
    "with open(key_path, \"r\") as f:\n",
    "    key = f.read().strip()\n",
    "\n",
    "embeddings = OpenAIEmbeddings(openai_api_key=key)\n",
    "\n",
    "# Load ground truth matrices\n",
    "bio_dict = pd.read_excel(bio_dict_path, sheet_name=None, index_col=0)\n",
    "\n",
    "all_results = []\n",
    "if os.path.exists(output_file):\n",
    "    existing_df = pd.read_csv(output_file)\n",
    "    existing_df = round_float_cols(existing_df.copy())\n",
    "else:\n",
    "    existing_df = pd.DataFrame()\n",
    "\n",
    "# Loop over each folder\n",
    "for folder in os.listdir(base_folder):\n",
    "    folder_path = os.path.join(base_folder, folder)\n",
    "    if not os.path.isdir(folder_path) or folder.startswith('.') or folder=='MISC':\n",
    "        continue\n",
    "    already_done = (\n",
    "    not existing_df.empty and\n",
    "    ((existing_df[\"fcm\"] == folder) &\n",
    "        (existing_df[\"Model\"] == model_name) &\n",
    "        (existing_df[\"method\"] == method)).any()\n",
    "    )\n",
    "    if already_done:\n",
    "        print(f\"Skipping {folder} — already processed.\")\n",
    "        continue\n",
    "\n",
    "    print(f\"Processing folder: {folder}\")\n",
    "\n",
    "    # try:\n",
    "        # Read and split text\n",
    "    text = read_all_text_files(folder_path)\n",
    "    text_splitter = NLTKTextSplitter(chunk_size=10000, chunk_overlap=1000)\n",
    "    docs = text_splitter.split_text(text)\n",
    "    data = [langDocument(page_content=doc) for doc in docs]\n",
    "\n",
    "    # Create and persist vector store\n",
    "    store = Chroma.from_documents(\n",
    "        data,\n",
    "        embeddings,\n",
    "        ids=[f\"{index}\" for index, item in enumerate(data)],\n",
    "        collection_name=folder.strip().replace(\" \", \"_\"),\n",
    "        persist_directory='db',\n",
    "    )\n",
    "    store.persist()\n",
    "\n",
    "    # Run extraction pipeline\n",
    "    segment = data[0].page_content\n",
    "    full_transcript = text\n",
    "    results = run_pipeline(segment, full_transcript, store, key, mode='dual',model_name=model_name)\n",
    "    if results[\"refined_extractions\"]:\n",
    "        result = results[\"refined_extractions\"]\n",
    "    else:\n",
    "        result = results[\"raw_extractions\"]\n",
    "        \n",
    "    # Convert to DataFrame and aggregate\n",
    "    df = pd.DataFrame(result)\n",
    "    df_agg = df.groupby(['tgt', 'src'], as_index=False).agg({'dir': dir_to_val})\n",
    "    df_agg = df_agg.rename(columns={'dir': 'value'})\n",
    "    df_matrix = df_agg.pivot(index='tgt', columns='src', values='value').fillna(0).astype(int)\n",
    "\n",
    "    df_matrix.to_csv(f\"{folder}.csv\")\n",
    "\n",
    "    # Score\n",
    "    if folder not in bio_dict:\n",
    "        print(f\"Skipping {folder} — no ground truth matrix.\")\n",
    "        continue\n",
    "\n",
    "    gt_matrix = bio_dict[folder]\n",
    "    scorer = ScoreCalculator(0.5, model_name, folder, 0.8, 0.2)\n",
    "    scorer.calculate_scores(gt_matrix, df_matrix)\n",
    "\n",
    "    # Add metadata\n",
    "    # scorer.scores_df[\"model\"] = model_name\n",
    "    scorer.scores_df[\"method\"] = method\n",
    "    scorer.scores_df[\"fcm\"] = folder\n",
    "    # Round and collect\n",
    "    rounded_df = round_float_cols(scorer.scores_df.copy())\n",
    "    all_results.append(rounded_df)\n",
    "\n",
    "    del scorer\n",
    "    gc.collect()\n",
    "\n",
    "    # except Exception as e:\n",
    "    #     print(f\"Error processing folder {folder}: {e}\")\n",
    "    #     continue\n",
    "\n",
    "# Concatenate all new results\n",
    "if all_results:\n",
    "    new_results_df = pd.concat(all_results, ignore_index=True)\n",
    "\n",
    "    # Load existing results if any\n",
    "    if os.path.exists(output_file):\n",
    "        existing_df = pd.read_csv(output_file)\n",
    "        existing_df = round_float_cols(existing_df.copy())\n",
    "        combined_df = pd.concat([existing_df, new_results_df], ignore_index=True).drop_duplicates()\n",
    "    else:\n",
    "        combined_df = new_results_df\n",
    "\n",
    "    combined_df.to_csv(output_file, index=False)\n",
    "    print(f\"Results written to {output_file}\")\n",
    "else:\n",
    "    print(\"No results to write.\")"
   ]
  },
  {
   "cell_type": "code",
   "execution_count": null,
   "metadata": {},
   "outputs": [],
   "source": [
    "#gpt-4.1-nano,PR Fishers,0.4127975029,\"dual agent (first rag, second full)\",PR Fishers\n",
    "# gpt-4.1-nano,USVI Academics,0.225806,\"dual agent (first rag, second full)\",USVI Academics\n",
    "# gpt-4.1-nano,USVI DAP,0.325216,\"dual agent (first rag, second full)\",USVI DAP\n",
    "# gpt-4.1-nano,PR Academics,0.177632,\"dual agent (first rag, second full)\",PR Academics\n",
    "# gpt-4.1-nano,USVI Managers,0.231405,\"dual agent (first rag, second full)\",USVI Managers\n",
    "# gpt-4.1-nano,PR NGOs,0.136364,\"dual agent (first rag, second full)\",PR NGOs\n",
    "# gpt-4.1-nano,USVI Fishers,0.312618,\"dual agent (first rag, second full)\",USVI Fishers\n",
    "# gpt-4.1-nano,USVI Businesses,0.198671,\"dual agent (first rag, second full)\",USVI Businesses\n",
    "# gpt-4.1-nano, PR Businesses,0.130435,\"dual agent (first rag, second full)\",PR Businesses  \n",
    "# gpt-4.1-nano,USVI NGOs,0.165396,\"dual agent (first rag, second full)\",USVI NGOs \n",
    "# gpt-4.1-nano,PR Businesses,0.0854870775,\"dual agent (first rag, second full)\",PR Businesses\n",
    "# gpt-4.1-nano,USVI NGOs,0.2093831451,\"dual agent (first rag, second full)\",USVI NGOs\n",
    "# gpt-4.1-nano,PR Managers,0.1776937618,\"dual agent (first rag, second full)\",PR Managers"
   ]
  },
  {
   "cell_type": "markdown",
   "metadata": {},
   "source": []
  },
  {
   "cell_type": "code",
   "execution_count": 43,
   "metadata": {},
   "outputs": [
    {
     "data": {
      "image/png": "[encoded data removed]",
      "text/plain": [
       "<Figure size 800x600 with 2 Axes>"
      ]
     },
     "metadata": {},
     "output_type": "display_data"
    }
   ],
   "source": [
    "import numpy as np\n",
    "import seaborn as sns\n",
    "import matplotlib.pyplot as plt\n",
    "\n",
    "\n",
    "similarity_matrix = scorer.cache['PR Fishers']['GPT 4o']['src']\n",
    "\n",
    "\n",
    "# Compute cosine similarity matrix (A vs B)\n",
    "# similarity_matrix = cosine_similarity(list_a, list_b)\n",
    "\n",
    "# Plot heatmap with values\n",
    "plt.figure(figsize=(8, 6))\n",
    "ax = sns.heatmap(similarity_matrix, cmap='viridis', fmt=\".2f\",)\n",
    "ax.set_title(\"Cosine Similarity Heatmap\")\n",
    "plt.xlabel(\"List B\")\n",
    "plt.ylabel(\"List A\")\n",
    "plt.tight_layout()\n",
    "plt.show()\n"
   ]
  },
  {
   "cell_type": "code",
   "execution_count": 28,
   "metadata": {},
   "outputs": [],
   "source": [
    "outputs=pd.read_csv('outputs.csv')"
   ]
  },
  {
   "cell_type": "code",
   "execution_count": 29,
   "metadata": {},
   "outputs": [
    {
     "data": {
      "text/html": [
       "<div>\n",
       "<style scoped>\n",
       "    .dataframe tbody tr th:only-of-type {\n",
       "        vertical-align: middle;\n",
       "    }\n",
       "\n",
       "    .dataframe tbody tr th {\n",
       "        vertical-align: top;\n",
       "    }\n",
       "\n",
       "    .dataframe thead th {\n",
       "        text-align: right;\n",
       "    }\n",
       "</style>\n",
       "<table border=\"1\" class=\"dataframe\">\n",
       "  <thead>\n",
       "    <tr style=\"text-align: right;\">\n",
       "      <th></th>\n",
       "      <th>method</th>\n",
       "      <th>F1</th>\n",
       "    </tr>\n",
       "  </thead>\n",
       "  <tbody>\n",
       "    <tr>\n",
       "      <th>0</th>\n",
       "      <td>Basic</td>\n",
       "      <td>0.159029</td>\n",
       "    </tr>\n",
       "    <tr>\n",
       "      <th>1</th>\n",
       "      <td>dual agent (first rag, second full)</td>\n",
       "      <td>0.214531</td>\n",
       "    </tr>\n",
       "  </tbody>\n",
       "</table>\n",
       "</div>"
      ],
      "text/plain": [
       "                                method        F1\n",
       "0                                Basic  0.159029\n",
       "1  dual agent (first rag, second full)  0.214531"
      ]
     },
     "execution_count": 29,
     "metadata": {},
     "output_type": "execute_result"
    }
   ],
   "source": [
    "outputs.groupby(['method'], as_index=False)['F1'].mean()"
   ]
  }
 ],
 "metadata": {
  "kernelspec": {
   "display_name": "base",
   "language": "python",
   "name": "python3"
  },
  "language_info": {
   "codemirror_mode": {
    "name": "ipython",
    "version": 3
   },
   "file_extension": ".py",
   "mimetype": "text/x-python",
   "name": "python",
   "nbconvert_exporter": "python",
   "pygments_lexer": "ipython3",
   "version": "3.12.5"
  }
 },
 "nbformat": 4,
 "nbformat_minor": 2
}
